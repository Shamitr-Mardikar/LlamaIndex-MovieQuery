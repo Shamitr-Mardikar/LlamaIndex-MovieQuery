{
  "nbformat": 4,
  "nbformat_minor": 0,
  "metadata": {
    "colab": {
      "provenance": [],
      "authorship_tag": "ABX9TyPmCrANwjFp+YtljQLCBq5t",
      "include_colab_link": true
    },
    "kernelspec": {
      "name": "python3",
      "display_name": "Python 3"
    },
    "language_info": {
      "name": "python"
    }
  },
  "cells": [
    {
      "cell_type": "markdown",
      "metadata": {
        "id": "view-in-github",
        "colab_type": "text"
      },
      "source": [
        "<a href=\"https://colab.research.google.com/github/Shamitr-Mardikar/LlamaIndex-MovieQuery/blob/main/LlamaIndex_and_RAG_Movie_Query_Model_using_Gemini_API.ipynb\" target=\"_parent\"><img src=\"https://colab.research.google.com/assets/colab-badge.svg\" alt=\"Open In Colab\"/></a>"
      ]
    },
    {
      "cell_type": "markdown",
      "source": [
        "**LlamaIndex and RAG Movie Query model using Gemini API**\n"
      ],
      "metadata": {
        "id": "VySaCxE2f8_6"
      }
    },
    {
      "cell_type": "markdown",
      "source": [
        "Installing all dependencies required."
      ],
      "metadata": {
        "id": "4Jqtw0cuf1Ha"
      }
    },
    {
      "cell_type": "code",
      "execution_count": null,
      "metadata": {
        "id": "f6crSnT0fjud"
      },
      "outputs": [],
      "source": [
        "!pip install -q llama-index\n",
        "!pip install -q llama-index-llms-gemini\n",
        "!pip install -q llama-index-embeddings-gemini\n",
        "!pip install llama-index-vector-stores-chroma\n",
        "!pip install chromadb"
      ]
    },
    {
      "cell_type": "markdown",
      "source": [
        "Importing all the necessary libraries"
      ],
      "metadata": {
        "id": "1FuyhTGPf6Cj"
      }
    },
    {
      "cell_type": "code",
      "source": [
        "import os\n",
        "import getpass\n",
        "import chromadb\n",
        "import re\n",
        "from llama_index.core import SimpleDirectoryReader\n",
        "from llama_index.core import VectorStoreIndex\n",
        "from llama_index.vector_stores.chroma import ChromaVectorStore\n",
        "from llama_index.core import StorageContext\n",
        "from llama_index.llms.gemini import Gemini\n",
        "from llama_index.core import Settings\n",
        "from llama_index.core import PromptTemplate\n",
        "from llama_index.embeddings.gemini import GeminiEmbedding"
      ],
      "metadata": {
        "id": "TIIJzozAgdqs"
      },
      "execution_count": null,
      "outputs": []
    },
    {
      "cell_type": "markdown",
      "source": [
        "Extracting User's Gemini API Key\n",
        "\n",
        "Please enter below."
      ],
      "metadata": {
        "id": "pdKObZ63g2Zw"
      }
    },
    {
      "cell_type": "code",
      "source": [
        "gemini_api_key = getpass.getpass(\"Enter your Gemini API Key here : \")"
      ],
      "metadata": {
        "colab": {
          "base_uri": "https://localhost:8080/"
        },
        "id": "AbkMES0bg1qs",
        "outputId": "105d541d-0c08-447c-df7b-8936fba25269"
      },
      "execution_count": null,
      "outputs": [
        {
          "name": "stdout",
          "output_type": "stream",
          "text": [
            "Enter your Gemini API Key here : ··········\n"
          ]
        }
      ]
    },
    {
      "cell_type": "markdown",
      "source": [
        "Reading the Movie Review txt file using Simple Directory Reader from LlamaIndex."
      ],
      "metadata": {
        "id": "LoCCFlHThCdc"
      }
    },
    {
      "cell_type": "markdown",
      "source": [
        "Remember to add your data to the data folder. If data folder not created, create a data folder and add the document in txt format."
      ],
      "metadata": {
        "id": "6U8c1lvohRoW"
      }
    },
    {
      "cell_type": "code",
      "source": [
        "documents = SimpleDirectoryReader(\"data\").load_data()"
      ],
      "metadata": {
        "id": "OShMFnHHhNOL"
      },
      "execution_count": null,
      "outputs": []
    },
    {
      "cell_type": "code",
      "source": [
        "documents"
      ],
      "metadata": {
        "colab": {
          "base_uri": "https://localhost:8080/"
        },
        "id": "qnpsItRJhYHD",
        "outputId": "f8644a39-d223-4802-b28b-7641b2faf3b1"
      },
      "execution_count": null,
      "outputs": [
        {
          "output_type": "execute_result",
          "data": {
            "text/plain": [
              "[Document(id_='40c267e8-4d66-4fe6-89fc-3a83a30e8ea6', embedding=None, metadata={'file_path': '/content/data/data.txt', 'file_name': 'data.txt', 'file_type': 'text/plain', 'file_size': 14035, 'creation_date': '2024-04-11', 'last_modified_date': '2024-04-11'}, excluded_embed_metadata_keys=['file_name', 'file_type', 'file_size', 'creation_date', 'last_modified_date', 'last_accessed_date'], excluded_llm_metadata_keys=['file_name', 'file_type', 'file_size', 'creation_date', 'last_modified_date', 'last_accessed_date'], relationships={}, text='Movie Review: Iron Man (2008)\\r\\nCast: Robert Downey Jr. as Tony Stark/Iron Man, Gwyneth Paltrow as Virginia \"Pepper\" Potts, Jeff Bridges as Obadiah Stane, Terrence Howard as James \"Rhodey\" Rhodes, Shaun Toub as Yinsen.\\r\\nPlot: \"Iron Man\" is a gripping superhero film that marks the beginning of the Marvel Cinematic Universe (MCU) with an electrifying performance from Robert Downey Jr. as Tony Stark, a genius billionaire industrialist who is also a brilliant inventor. The story unfolds as Stark, a playboy billionaire and genius inventor, is captured by terrorists while demonstrating a new weapon in Afghanistan. Forced to build a devastating weapon for them, he instead creates an armored suit and escapes captivity. Back home, Stark refines the suit and uses it to combat evil forces, including his own business partner, Obadiah Stane, who has nefarious plans for Stark Industries. Alongside his loyal assistant Pepper Potts and his best friend James Rhodes, Stark becomes the iconic superhero known as Iron Man.\\r\\nReview: Directed by Jon Favreau, \"Iron Man\" is a thrilling origin story that seamlessly blends action, humor, and heart. Robert Downey Jr. shines as the charismatic and witty Tony Stark, delivering a performance that perfectly captures the character\\'s complexity. Downey Jr.\\'s portrayal of Stark\\'s transformation from a self-absorbed industrialist to a selfless hero is both compelling and relatable. The chemistry between Downey Jr. and Gwyneth Paltrow, who plays Stark\\'s loyal assistant Pepper Potts, adds depth to the film\\'s emotional core. Jeff Bridges delivers a formidable performance as the villainous Obadiah Stane, whose betrayal of Stark drives much of the film\\'s conflict.\\r\\nThe visual effects are stunning, especially during the exhilarating action sequences that showcase Iron Man\\'s capabilities. From the breathtaking moments of Iron Man soaring through the sky to the intense battles with enemy forces, the film\\'s visual spectacle is a testament to the talents of the visual effects team. The film\\'s pacing is brisk, keeping audiences engaged from start to finish, while its screenplay, penned by Mark Fergus, Hawk Ostby, Art Marcum, and Matt Holloway, balances thrilling action with character-driven drama.\\r\\n\"Iron Man\" not only lays the groundwork for the Marvel Cinematic Universe but also stands as a standout superhero film in its own right. With its engaging storyline, well-developed characters, and impressive production values, \"Iron Man\" is a cinematic triumph that has left an indelible mark on popular culture. It\\'s a must-watch for superhero fans and moviegoers alike, offering a thrilling and entertaining cinematic experience that continues to captivate audiences to this day.\\r\\nMovie Review: Six Underground (2019)\\r\\nCast: Ryan Reynolds as One, Mélanie Laurent as Two, Manuel Garcia-Rulfo as Three, Adria Arjona as Four, Corey Hawkins as Seven, Ben Hardy as Six.\\r\\nPlot: \"Six Underground\" is a high-octane action thriller directed by Michael Bay, known for his signature style of explosive action sequences and fast-paced storytelling. The film follows a group of six individuals, led by a mysterious billionaire known only as \"One\" (played by Ryan Reynolds), who have faked their deaths to form an elite vigilante squad. Each member of the team is assigned a number rather than a name to protect their identities as they embark on dangerous missions to take down notorious criminals and corrupt regimes around the world. As they execute their missions with precision and ruthlessness, they uncover a web of conspiracy that threatens global stability.\\r\\nReview: Michael Bay\\'s \"Six Underground\" is a relentless adrenaline rush from start to finish, delivering jaw-dropping action set pieces and larger-than-life spectacle. Ryan Reynolds leads the ensemble cast with his trademark wit and charm, injecting the film with humor amidst the chaos. Mélanie Laurent, Manuel Garcia-Rulfo, Adria Arjona, Corey Hawkins, and Ben Hardy each bring their own unique talents to their respective roles, creating a dynamic and compelling team of operatives. The chemistry between the cast members adds depth to their characters and makes their camaraderie feel genuine.\\r\\nThe film\\'s action sequences are nothing short of spectacular, with Bay\\'s signature visual style elevating each moment to new heights. From intense car chases through crowded city streets to explosive gunfights in exotic locales, \"Six Underground\" delivers non-stop thrills and excitement. The use of practical effects and stunts adds a visceral realism to the action, immersing audiences in the heart-pounding chaos on screen.\\r\\nWhile the plot may be secondary to the film\\'s adrenaline-fueled spectacle, \"Six Underground\" still manages to deliver moments of intrigue and suspense as the team uncovers the true motives behind their missions. The screenplay, penned by Paul Wernick and Rhett Reese, combines pulse-pounding action with witty banter and unexpected twists, keeping audiences on the edge of their seats until the very end.\\r\\nOverall, \"Six Underground\" is a popcorn-munching, thrill-a-minute ride that delivers exactly what fans of Michael Bay and action cinema crave. With its charismatic cast, jaw-dropping action sequences, and relentless pace, it\\'s a must-watch for adrenaline junkies looking for an exhilarating cinematic experience. Just buckle up and enjoy the ride.\\r\\nMovie Review: IT (2017)\\r\\nCast: Bill Skarsgård as Pennywise the Dancing Clown, Jaeden Martell as Bill Denbrough, Sophia Lillis as Beverly Marsh, Finn Wolfhard as Richie Tozier, Jeremy Ray Taylor as Ben Hanscom, Chosen Jacobs as Mike Hanlon, Jack Dylan Grazer as Eddie Kaspbrak, Wyatt Oleff as Stanley Uris.\\r\\nPlot: Based on Stephen King\\'s iconic novel, \"IT\" is a chilling horror film that follows a group of seven children in the town of Derry, Maine, who are terrorized by a malevolent entity that takes the form of a sinister clown named Pennywise. The children, known as the Losers\\' Club, must confront their deepest fears and band together to defeat Pennywise, who awakens every 27 years to prey on the town\\'s children. As they delve deeper into the mysteries of Derry\\'s dark history, the Losers\\' Club uncovers the truth about Pennywise and the ancient evil that lurks beneath the surface.\\r\\nReview: Directed by Andy Muschietti, \"IT\" is a masterclass in atmospheric horror, blending spine-tingling scares with heartfelt coming-of-age drama. Bill Skarsgård delivers a mesmerizing performance as Pennywise, imbuing the character with a terrifying mix of childlike whimsy and pure malevolence. His portrayal of the iconic clown is haunting and unforgettable, cementing Pennywise as one of cinema\\'s most iconic villains.\\r\\nThe young ensemble cast of the Losers\\' Club delivers standout performances, with Jaeden Martell, Sophia Lillis, Finn Wolfhard, Jeremy Ray Taylor, Chosen Jacobs, Jack Dylan Grazer, and Wyatt Oleff forming a compelling group of protagonists. Their camaraderie feels authentic, grounding the supernatural horror in the relatable struggles of adolescence and friendship. Each member of the Losers\\' Club brings depth and vulnerability to their character, making their journey to confront Pennywise all the more compelling.\\r\\n\"It\" succeeds not only as a terrifying horror film but also as a poignant exploration of childhood trauma and resilience. Muschietti deftly weaves together moments of dread and nostalgia, capturing the essence of Stephen King\\'s novel while adding his own visual flair. The film\\'s cinematography, score, and sound design work in tandem to create an immersive and unsettling atmosphere that keeps audiences on edge throughout.\\r\\nWhile \"IT\" is undeniably scary, it also boasts moments of humor and heart, balancing its horror with moments of levity and genuine emotion. The film\\'s themes of friendship, bravery, and the power of facing one\\'s fears resonate long after the credits roll, making it a standout entry in the horror genre.\\r\\nIn conclusion, \"IT\" is a chilling and captivating adaptation of Stephen King\\'s classic novel, anchored by strong performances, atmospheric direction, and a sense of dread that lingers long after the final showdown with Pennywise. Whether you\\'re a fan of horror or simply appreciate a well-crafted story, \"IT\" is a must-watch that will haunt your dreams and leave you eagerly awaiting the sequel.\\r\\nMovie Review: The Shawshank Redemption (1994)\\r\\nCast: Tim Robbins as Andy Dufresne, Morgan Freeman as Ellis \"Red\" Redding, Bob Gunton as Warden Samuel Norton, William Sadler as Heywood, Clancy Brown as Captain Byron Hadley, Gil Bellows as Tommy Williams, James Whitmore as Brooks Hatlen.\\r\\nPlot: \"The Shawshank Redemption\" is a timeless classic that follows the journey of Andy Dufresne, a banker who is wrongly convicted of murder and sentenced to life in Shawshank State Penitentiary. Inside the prison walls, Andy forms an unlikely friendship with Ellis \"Red\" Redding, a seasoned inmate known for his ability to procure contraband. As Andy navigates the harsh realities of prison life, he maintains his innocence and finds solace in his hope for redemption. Through acts of kindness, perseverance, and resilience, Andy gradually earns the respect of his fellow inmates and begins to make a profound impact on the lives of those around him.\\r\\nReview: Directed by Frank Darabont and based on the novella by Stephen King, \"The Shawshank Redemption\" is a cinematic masterpiece that resonates with audiences on a profound level. At its core, the film is a poignant exploration of the human spirit and the enduring power of hope in the face of adversity. Tim Robbins delivers a tour de force performance as Andy Dufresne, capturing the character\\'s quiet dignity and inner strength with nuance and depth. Morgan Freeman is equally compelling as Red, infusing the role with warmth, wisdom, and a hint of world-weary cynicism.\\r\\nThe supporting cast, including Bob Gunton as the tyrannical Warden Norton and Clancy Brown as the brutal Captain Hadley, deliver memorable performances that add layers of complexity to the film\\'s narrative. Each character, no matter how small their role, feels fully realized and contributes to the richness of the story.\\r\\n\"The Shawshank Redemption\" is a masterclass in storytelling, with Frank Darabont\\'s direction imbuing every frame with a sense of authenticity and emotional resonance. The film\\'s cinematography, score, and pacing are all meticulously crafted, creating a cinematic experience that is both immersive and emotionally impactful.\\r\\nWhat sets \"The Shawshank Redemption\" apart is its timeless message of hope and redemption. Despite the bleakness of its setting, the film ultimately celebrates the triumph of the human spirit over adversity. It reminds us that even in our darkest moments, there is always hope for a brighter tomorrow.\\r\\nIn conclusion, \"The Shawshank Redemption\" is a cinematic gem that continues to captivate audiences decades after its release. With its powerful performances, compelling storytelling, and universal themes, it stands as a testament to the enduring power of cinema to inspire, uplift, and touch the hearts of viewers around the world.\\r\\nMovie Review: Titanic (1997)\\r\\nCast: Leonardo DiCaprio as Jack Dawson, Kate Winslet as Rose DeWitt Bukater, Billy Zane as Caledon Hockley, Kathy Bates as Molly Brown, Frances Fisher as Ruth DeWitt Bukater, David Warner as Spicer Lovejoy, Bill Paxton as Brock Lovett.\\r\\nPlot: \"Titanic\" is a sweeping epic romance set against the backdrop of the ill-fated maiden voyage of the RMS Titanic. The film follows the forbidden love affair between Jack Dawson, a free-spirited artist, and Rose DeWitt Bukater, a young socialite trapped in a loveless engagement to the wealthy Caledon Hockley. As the ship embarks on its journey across the Atlantic, Jack and Rose\\'s romance blossoms amidst the opulence and grandeur of the Titanic. However, their love faces insurmountable challenges as they become caught up in the tragedy of the ship\\'s sinking, forcing them to fight for their survival against the backdrop of one of the greatest maritime disasters in history.\\r\\nReview: Directed by James Cameron, \"Titanic\" is a cinematic masterpiece that seamlessly blends romance, drama, and spectacle on an epic scale. At the heart of the film is the electrifying chemistry between Leonardo DiCaprio and Kate Winslet, whose performances as Jack and Rose elevate the story to soaring heights. DiCaprio brings a sense of youthful vitality and charm to the role of Jack, while Winslet imbues Rose with intelligence, strength, and vulnerability. Their on-screen romance is both passionate and poignant, capturing the hearts of audiences around the world.\\r\\nCameron\\'s meticulous attention to detail and groundbreaking visual effects transport viewers back in time to the luxurious splendor of the Titanic. From the intricate recreation of the ship\\'s interiors to the breathtaking sequences of its sinking, the film immerses viewers in the grandeur and tragedy of the Titanic\\'s final voyage. The use of practical effects, combined with cutting-edge CGI, lends a sense of realism to the disaster that is both awe-inspiring and harrowing.\\r\\nBeyond its epic romance and stunning visuals, \"Titanic\" is a powerful exploration of class, privilege, and the human capacity for love and sacrifice. The film\\'s supporting cast, including Billy Zane as the conniving Caledon Hockley and Kathy Bates as the indomitable Molly Brown, add depth and complexity to the narrative. Their characters serve as foils to Jack and Rose, highlighting the stark divides of class and social hierarchy aboard the Titanic.\\r\\nDespite its tragic ending, \"Titanic\" ultimately celebrates the enduring power of love and the resilience of the human spirit in the face of adversity. It\\'s a timeless tale that continues to captivate audiences with its sweeping romance, compelling characters, and unforgettable storytelling. As the ship sinks beneath the waves, \"Titanic\" remains a testament to the enduring legacy of one of history\\'s greatest tragedies.', start_char_idx=None, end_char_idx=None, text_template='{metadata_str}\\n\\n{content}', metadata_template='{key}: {value}', metadata_seperator='\\n')]"
            ]
          },
          "metadata": {},
          "execution_count": 7
        }
      ]
    },
    {
      "cell_type": "markdown",
      "source": [
        "Initialising the Gemini Model"
      ],
      "metadata": {
        "id": "RVYrRh4thl2f"
      }
    },
    {
      "cell_type": "code",
      "source": [
        "model_name = \"models/embedding-001\"\n",
        "gemini_embedding_model = GeminiEmbedding(model_name = model_name,api_key = gemini_api_key, title=\"document\")"
      ],
      "metadata": {
        "id": "4pVqu6gEhnU-"
      },
      "execution_count": null,
      "outputs": []
    },
    {
      "cell_type": "markdown",
      "source": [
        "Initialising the LLM."
      ],
      "metadata": {
        "id": "z8B6J0hih39B"
      }
    },
    {
      "cell_type": "code",
      "source": [
        "llm = Gemini(api_key = gemini_api_key, model_name = \"models/gemini-pro\")"
      ],
      "metadata": {
        "id": "rU-O-llehzbf"
      },
      "execution_count": null,
      "outputs": []
    },
    {
      "cell_type": "markdown",
      "source": [
        "Creating a new Chroma client and Chroma collection."
      ],
      "metadata": {
        "id": "h48b2yEthzMo"
      }
    },
    {
      "cell_type": "code",
      "source": [
        "client = chromadb.PersistentClient(path=\"./chroma_db\")\n",
        "chroma_collection = client.get_or_create_collection(\"quickstart\")"
      ],
      "metadata": {
        "id": "OtVbRc7Sh9Eo"
      },
      "execution_count": null,
      "outputs": []
    },
    {
      "cell_type": "markdown",
      "source": [
        "Creating a Vector Store for Chroma"
      ],
      "metadata": {
        "id": "wrAaanxDiAQW"
      }
    },
    {
      "cell_type": "code",
      "source": [
        "vector_store = ChromaVectorStore(chroma_collection=chroma_collection)\n",
        "storage_context = StorageContext.from_defaults(vector_store=vector_store)"
      ],
      "metadata": {
        "id": "PxuhnBYViCKL"
      },
      "execution_count": null,
      "outputs": []
    },
    {
      "cell_type": "markdown",
      "source": [
        "Setting up the LLM and interlinking the Vector Store."
      ],
      "metadata": {
        "id": "wpipzoouiKLL"
      }
    },
    {
      "cell_type": "code",
      "source": [
        "Settings.llm = llm\n",
        "Settings.embed_model = gemini_embedding_model\n",
        "index = VectorStoreIndex.from_documents(documents, storage_context = storage_context)"
      ],
      "metadata": {
        "id": "PM9oMQcmiOSO"
      },
      "execution_count": null,
      "outputs": []
    },
    {
      "cell_type": "markdown",
      "source": [
        "Loading the chroma client and providing a test query to the LLM engine we just made."
      ],
      "metadata": {
        "id": "kprWRRQGiO6i"
      }
    },
    {
      "cell_type": "code",
      "source": [
        "load_client = chromadb.PersistentClient(path = \"./chroma_db\")\n",
        "chroma_collection = load_client.get_collection(\"quickstart\")\n",
        "\n",
        "vector_store = ChromaVectorStore(chroma_collection = chroma_collection)\n",
        "\n",
        "index = VectorStoreIndex.from_vector_store(vector_store)\n",
        "\n",
        "test_query_engine = index.as_query_engine()\n",
        "response = test_query_engine.query(\"MMLU\")\n",
        "print(response)"
      ],
      "metadata": {
        "colab": {
          "base_uri": "https://localhost:8080/",
          "height": 34
        },
        "id": "IjAV5PJfiJ5b",
        "outputId": "ca9f2c92-6a92-44ed-b3bd-8813ab1eff00"
      },
      "execution_count": null,
      "outputs": [
        {
          "output_type": "stream",
          "name": "stdout",
          "text": [
            "The provided context does not mention anything about MMLU, so I cannot answer this question from the provided context.\n"
          ]
        }
      ]
    },
    {
      "cell_type": "markdown",
      "source": [
        "Using Llama Template to give Gemini a query and initialise it to answer questions relating to the Movie Review Document."
      ],
      "metadata": {
        "id": "OrDeokBJic3h"
      }
    },
    {
      "cell_type": "code",
      "source": [
        "template = (\"\"\" You are an assistant for Question-Answering Tasks. Use the following context to answer questions based off the movie reviews. IF you don't know the answer, just say you don't know. Use 5 sentences max, keep the answer concise.\n",
        "                Question : {query_str} \\nContext: {context_str} \\nAnswer: \"\"\")\n",
        "\n",
        "llm_prompt = PromptTemplate(template)"
      ],
      "metadata": {
        "id": "BbR__NlIiibP"
      },
      "execution_count": null,
      "outputs": []
    },
    {
      "cell_type": "code",
      "source": [
        "query_engine = index.as_query_engine(text_qa_template=llm_prompt)"
      ],
      "metadata": {
        "id": "rtP3KHZailLm"
      },
      "execution_count": null,
      "outputs": []
    },
    {
      "cell_type": "markdown",
      "source": [
        "You can ask any Query relating to the Movie Review document including short summaries and Gemini will give it to you!"
      ],
      "metadata": {
        "id": "bSfG7UxRirqb"
      }
    },
    {
      "cell_type": "code",
      "source": [
        "question = input()\n",
        "response = query_engine.query(question)\n",
        "print(response)"
      ],
      "metadata": {
        "colab": {
          "base_uri": "https://localhost:8080/",
          "height": 72
        },
        "id": "tLDRnyYKip2i",
        "outputId": "00e02fe8-a0c8-4db5-b614-5df7212d2494"
      },
      "execution_count": null,
      "outputs": [
        {
          "output_type": "stream",
          "name": "stdout",
          "text": [
            "what is the summary of IT\n",
            "IT is a chilling horror film that follows a group of seven children in the town of Derry, Maine, who are terrorized by a malevolent entity that takes the form of a sinister clown named Pennywise. The children, known as the Losers' Club, must confront their deepest fears and band together to defeat Pennywise, who awakens every 27 years to prey on the town's children.\n"
          ]
        }
      ]
    }
  ]
}